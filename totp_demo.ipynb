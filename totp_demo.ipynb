{
 "cells": [
  {
   "cell_type": "markdown",
   "id": "182693a8-10c1-4f6a-af17-d3fea9e7c381",
   "metadata": {},
   "source": [
    "# pip install pyotp qrcode[pil] pillow"
   ]
  },
  {
   "cell_type": "code",
   "execution_count": 47,
   "id": "041b847e-0fbc-4bab-9d90-8d5550aae8e9",
   "metadata": {},
   "outputs": [],
   "source": [
    "import time\n",
    "import os\n",
    "from pathlib import Path\n",
    "import pyotp\n",
    "import qrcode\n",
    "from PIL import Image"
   ]
  },
  {
   "cell_type": "code",
   "execution_count": 49,
   "id": "13385381-f8cd-4295-9162-106d7a3d5eb3",
   "metadata": {},
   "outputs": [],
   "source": [
    "ACCOUNT_NAME = \"student@example.com\"   # label shown in app\n",
    "ISSUER_NAME = \"MyCourseAuth\"           # issuer shown in app\n",
    "OUT_DIR = Path(\"./\")                   # where to save files\n",
    "QR_FILENAME = OUT_DIR / \"totp_qr.png\"\n",
    "EXAMPLE_SUBMIT = OUT_DIR / \"totp_example.py\""
   ]
  },
  {
   "cell_type": "code",
   "execution_count": 51,
   "id": "ac6ade63-bf51-4b24-913d-3b52820ed44b",
   "metadata": {},
   "outputs": [],
   "source": [
    "def generate_secret():\n",
    "    \"\"\"Generate a base32 secret for TOTP.\"\"\"\n",
    "    return pyotp.random_base32()  # 16-char base32 by default"
   ]
  },
  {
   "cell_type": "code",
   "execution_count": 53,
   "id": "098788e1-107a-45bd-a2ff-a98b976067be",
   "metadata": {},
   "outputs": [],
   "source": [
    "def create_totp(secret):\n",
    "    \"\"\"Return a TOTP object (30s step default).\"\"\"\n",
    "    return pyotp.TOTP(secret)"
   ]
  },
  {
   "cell_type": "code",
   "execution_count": 55,
   "id": "0727f901-2b2b-4659-9fd7-bf7b1a96c144",
   "metadata": {},
   "outputs": [],
   "source": [
    "def save_qr(provisioning_uri, path):\n",
    "    \"\"\"Generate and save a QR code PNG from an otpauth URI.\"\"\"\n",
    "    qr = qrcode.QRCode(border=2)\n",
    "    qr.add_data(provisioning_uri)\n",
    "    qr.make(fit=True)\n",
    "    img = qr.make_image(fill_color=\"black\", back_color=\"white\")\n",
    "    img.save(path)\n",
    "    return path"
   ]
  },
  {
   "cell_type": "code",
   "execution_count": 57,
   "id": "1022cd12-8122-4aec-ba81-282640984165",
   "metadata": {},
   "outputs": [],
   "source": [
    "def write_example_submission(secret, path):\n",
    "    \"\"\"Write a minimal example file students can attach as code submission.\"\"\"\n",
    "    content = f\"\"\"# totp_example.py\n",
    "# Minimal example: generate and validate a TOTP using a given secret.\n",
    "import pyotp\n",
    "secret = '{secret}'\n",
    "totp = pyotp.TOTP(secret)\n",
    "print('Current OTP (server-side check):', totp.now())\n",
    "# For validation example, prompt the user:\n",
    "code = input('Enter OTP from your authenticator app: ').strip()\n",
    "print('Valid' if totp.verify(code) else 'Invalid or expired')\n",
    "\"\"\"\n",
    "    path.write_text(content)\n",
    "    return path"
   ]
  },
  {
   "cell_type": "code",
   "execution_count": 59,
   "id": "15a352b1-e21f-4305-bd1e-a803fef4d775",
   "metadata": {},
   "outputs": [
    {
     "name": "stdout",
     "output_type": "stream",
     "text": [
      "=== TOTP demo ===\n",
      "Base32 secret (keep this private): 3PVIRNXC7O3NWTHEBS6ZFJMPFAYWUIDS\n",
      "TOTP provisioning (otpauth) URI example:\n",
      "otpauth://totp/MyCourseAuth:student%40example.com?secret=3PVIRNXC7O3NWTHEBS6ZFJMPFAYWUIDS&issuer=MyCourseAuth\n",
      "\n",
      "Current TOTP (30s window) (for demo only): 765011\n",
      "Verify current code => True\n",
      "Example past code (t-30s): 653469 Verify with window=1 => True\n",
      "Example future code (t+30s): 604005 Verify with window=1 => True\n",
      "\n",
      "Saved QR code image to: C:\\Users\\Anahit.Gulyan\\Documents\\Anahit\\YSU\\BlockChain\\Grigoryan\\totp_qr.png\n",
      "Open that file and scan it with Google Authenticator / Authy on your phone.\n",
      "If you prefer not to scan, you can enter the secret manually into the app.\n",
      "\n",
      "Wrote example student code to: C:\\Users\\Anahit.Gulyan\\Documents\\Anahit\\YSU\\BlockChain\\Grigoryan\\totp_example.py\n",
      "\n",
      "Now you can scan the QR on your phone and fetch a TOTP code from the app.\n"
     ]
    },
    {
     "name": "stdin",
     "output_type": "stream",
     "text": [
      "Enter the code you see in your authenticator app:  780267\n"
     ]
    },
    {
     "name": "stdout",
     "output_type": "stream",
     "text": [
      "FAIL: Invalid or expired code. Make sure your phone time is synchronized and you scanned the correct QR / secret.\n",
      "\n",
      "Done. Files to attach for submission:\n",
      " - QR image: C:\\Users\\Anahit.Gulyan\\Documents\\Anahit\\YSU\\BlockChain\\Grigoryan\\totp_qr.png\n",
      " - Example code: C:\\Users\\Anahit.Gulyan\\Documents\\Anahit\\YSU\\BlockChain\\Grigoryan\\totp_example.py\n",
      "Suggested screenshots to capture:\n",
      "  1) Terminal showing the printed secret, the provisioning URI and the verification result.\n",
      "  2) Your authenticator app showing the account label and the 6-digit code.\n",
      "  3) (Optional) The QR image file or the QR scanning confirmation on your phone.\n"
     ]
    }
   ],
   "source": [
    "def main():\n",
    "    OUT_DIR.mkdir(parents=True, exist_ok=True)\n",
    "\n",
    "    # 1) Generate secret and TOTP\n",
    "    secret = generate_secret()\n",
    "    print(\"=== TOTP demo ===\")\n",
    "    print(\"Base32 secret (keep this private):\", secret)\n",
    "    totp = create_totp(secret)\n",
    "    print(\"TOTP provisioning (otpauth) URI example:\")\n",
    "    uri = totp.provisioning_uri(name=ACCOUNT_NAME, issuer_name=ISSUER_NAME)\n",
    "    print(uri)\n",
    "    print()\n",
    "\n",
    "    # 2) Current OTP and verification demonstration\n",
    "    current_code = totp.now()\n",
    "    print(\"Current TOTP (30s window) (for demo only):\", current_code)\n",
    "    # Verify current (should be True)\n",
    "    print(\"Verify current code =>\", totp.verify(current_code))\n",
    "    # Show verification with tolerance (valid_window)\n",
    "    past_code = totp.at(int(time.time()) - 30)\n",
    "    future_code = totp.at(int(time.time()) + 30)\n",
    "    print(\"Example past code (t-30s):\", past_code, \"Verify with window=1 =>\", totp.verify(past_code, valid_window=1))\n",
    "    print(\"Example future code (t+30s):\", future_code, \"Verify with window=1 =>\", totp.verify(future_code, valid_window=1))\n",
    "    print()\n",
    "\n",
    "    # 3) Save QR code for scanning by an authenticator app\n",
    "    qr_path = save_qr(uri, QR_FILENAME)\n",
    "    print(f\"Saved QR code image to: {qr_path.resolve()}\")\n",
    "    print(\"Open that file and scan it with Google Authenticator / Authy on your phone.\")\n",
    "    print(\"If you prefer not to scan, you can enter the secret manually into the app.\")\n",
    "    print()\n",
    "\n",
    "    # 4) Write example submission code\n",
    "    ex_path = write_example_submission(secret, EXAMPLE_SUBMIT)\n",
    "    print(\"Wrote example student code to:\", ex_path.resolve())\n",
    "    print()\n",
    "\n",
    "    # 5) Interactive validation prompt (to produce a screenshot)\n",
    "    print(\"Now you can scan the QR on your phone and fetch a TOTP code from the app.\")\n",
    "    user_code = input(\"Enter the code you see in your authenticator app: \").strip()\n",
    "    if totp.verify(user_code):\n",
    "        print(\"SUCCESS: The code is valid.\")\n",
    "    else:\n",
    "        # Try with one-step window tolerance\n",
    "        if totp.verify(user_code, valid_window=1):\n",
    "            print(\"SUCCESS (valid within ±1 step).\")\n",
    "        else:\n",
    "            print(\"FAIL: Invalid or expired code. Make sure your phone time is synchronized and you scanned the correct QR / secret.\")\n",
    "    print(\"\\nDone. Files to attach for submission:\")\n",
    "    print(\" - QR image:\", qr_path.resolve())\n",
    "    print(\" - Example code:\", ex_path.resolve())\n",
    "    print(\"Suggested screenshots to capture:\")\n",
    "    print(\"  1) Terminal showing the printed secret, the provisioning URI and the verification result.\")\n",
    "    print(\"  2) Your authenticator app showing the account label and the 6-digit code.\")\n",
    "    print(\"  3) (Optional) The QR image file or the QR scanning confirmation on your phone.\")\n",
    "\n",
    "if __name__ == \"__main__\":\n",
    "    main()"
   ]
  },
  {
   "cell_type": "code",
   "execution_count": 27,
   "id": "b25673aa-c694-4b0f-8dc9-cac695cd5bdc",
   "metadata": {},
   "outputs": [
    {
     "ename": "IndentationError",
     "evalue": "unexpected indent (3680036903.py, line 2)",
     "output_type": "error",
     "traceback": [
      "\u001b[1;36m  Cell \u001b[1;32mIn[27], line 2\u001b[1;36m\u001b[0m\n\u001b[1;33m    current_code = totp.now()\u001b[0m\n\u001b[1;37m    ^\u001b[0m\n\u001b[1;31mIndentationError\u001b[0m\u001b[1;31m:\u001b[0m unexpected indent\n"
     ]
    }
   ],
   "source": []
  },
  {
   "cell_type": "code",
   "execution_count": null,
   "id": "e8f2cd8e-7f32-4909-803b-88eae8bc40d4",
   "metadata": {},
   "outputs": [],
   "source": []
  }
 ],
 "metadata": {
  "kernelspec": {
   "display_name": "Python 3 (ipykernel)",
   "language": "python",
   "name": "python3"
  },
  "language_info": {
   "codemirror_mode": {
    "name": "ipython",
    "version": 3
   },
   "file_extension": ".py",
   "mimetype": "text/x-python",
   "name": "python",
   "nbconvert_exporter": "python",
   "pygments_lexer": "ipython3",
   "version": "3.12.7"
  }
 },
 "nbformat": 4,
 "nbformat_minor": 5
}
